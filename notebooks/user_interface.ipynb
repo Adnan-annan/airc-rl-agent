{
 "cells": [
  {
   "cell_type": "markdown",
   "metadata": {},
   "source": [
    "BotRacerController\n",
    "===\n",
    "\n",
    "In this notebook, connect training process viva IPC. You can send start and stop message to that process. This notebook use Game controller.\n",
    "\n",
    "## Import module\n",
    "\n",
    "import module for this notebook."
   ]
  },
  {
   "cell_type": "code",
   "execution_count": 1,
   "metadata": {},
   "outputs": [],
   "source": [
    "import json\n",
    "import posix_ipc\n",
    "import ipywidgets.widgets as widgets\n",
    "from learning_racer.teleoperate import NotebookBackend"
   ]
  },
  {
   "cell_type": "markdown",
   "metadata": {},
   "source": [
    "## Connect to Game Controller\n",
    "\n",
    "Before run this cell, connect game controller to your PC. After run this cell, press some button. "
   ]
  },
  {
   "cell_type": "code",
   "execution_count": 2,
   "metadata": {},
   "outputs": [
    {
     "data": {
      "text/plain": [
       "Controller()"
      ]
     },
     "metadata": {},
     "output_type": "display_data"
    }
   ],
   "source": [
    "controller = widgets.Controller(index=0)\n",
    "display(controller)"
   ]
  },
  {
   "cell_type": "markdown",
   "metadata": {},
   "source": [
    "## Parameter setup\n",
    "\n",
    "\n"
   ]
  },
  {
   "cell_type": "code",
   "execution_count": 3,
   "metadata": {},
   "outputs": [],
   "source": [
    "STOP=5\n",
    "START=4"
   ]
  },
  {
   "cell_type": "markdown",
   "metadata": {},
   "source": [
    "## Start controll process\n",
    "\n",
    "This cell is do communication to learning process. You can send message by using Game Controller. "
   ]
  },
  {
   "cell_type": "code",
   "execution_count": 4,
   "metadata": {
    "pycharm": {
     "name": "#%%\n"
    }
   },
   "outputs": [],
   "source": [
    "validate = widgets.Valid(value=False, description='Status',)\n",
    "display(validate)\n",
    "def callback(status):\n",
    "    validate.value = status\n",
    "\n",
    "backend = NotebookBackend(callback)\n",
    "backend.start()\n",
    "\n",
    "def send_stop_flag(change):\n",
    "    global backend\n",
    "    if change['new'] == 1.0:\n",
    "        backend.send_status(True)\n",
    "\n",
    "def send_start_flag(change):\n",
    "    global backend\n",
    "    if change['new'] == 1.0:\n",
    "        backend.send_status(False)\n",
    "\n",
    "send_stop_flag({'new': controller.buttons[STOP].value})\n",
    "send_start_flag({'new': controller.buttons[START].value})\n",
    "controller.buttons[STOP].observe(send_stop_flag, names='value')\n",
    "controller.buttons[START].observe(send_start_flag, names='value')"
   ]
  },
  {
   "cell_type": "code",
   "execution_count": null,
   "outputs": [],
   "source": [],
   "metadata": {
    "collapsed": false,
    "pycharm": {
     "name": "#%%\n"
    }
   }
  }
 ],
 "metadata": {
  "kernelspec": {
   "display_name": "Python 3",
   "language": "python",
   "name": "python3"
  },
  "language_info": {
   "codemirror_mode": {
    "name": "ipython",
    "version": 3
   },
   "file_extension": ".py",
   "mimetype": "text/x-python",
   "name": "python",
   "nbconvert_exporter": "python",
   "pygments_lexer": "ipython3",
   "version": "3.6.9"
  }
 },
 "nbformat": 4,
 "nbformat_minor": 4
}