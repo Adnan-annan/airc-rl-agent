{
 "cells": [
  {
   "cell_type": "markdown",
   "metadata": {},
   "source": [
    "VAE viewer notebook for JetBot\n",
    "===\n",
    "\n",
    "This notebook can visualize vae. This repository using JetBot real camera."
   ]
  },
  {
   "cell_type": "code",
   "execution_count": null,
   "metadata": {},
   "outputs": [],
   "source": [
    "import sys\n",
    "import traitlets\n",
    "import ipywidgets.widgets as widgets\n",
    "from IPython.display import display\n",
    "import torch\n",
    "sys.path.append('../../vae')\n",
    "from jetbot import Camera, bgr8_to_jpeg\n",
    "from vae import VAE"
   ]
  },
  {
   "cell_type": "markdown",
   "metadata": {},
   "source": []
  },
  {
   "cell_type": "code",
   "execution_count": null,
   "metadata": {},
   "outputs": [],
   "source": [
    "IMAGE_CHANNELS = 3\n",
    "VARIANTS_SIZE = 32\n",
    "MODEL_PATH = '../../vae.torch'\n",
    "device = torch.device('cuda')\n"
   ]
  },
  {
   "cell_type": "markdown",
   "metadata": {},
   "source": [
    "## Load trained VAE model.\n",
    "Loading trained VAE model on GPU memory. "
   ]
  },
  {
   "cell_type": "code",
   "execution_count": null,
   "metadata": {},
   "outputs": [],
   "source": [
    "vae = VAE(image_channels=IMAGE_CHANNELS, z_dim=VARIANTS_SIZE)\n",
    "vae.load_state_dict(torch.load(MODEL_PATH, map_location=torch.device(device)))\n",
    "vae.to(device).eval()"
   ]
  },
  {
   "cell_type": "markdown",
   "metadata": {},
   "source": [
    "## Create camera \n"
   ]
  },
  {
   "cell_type": "code",
   "execution_count": null,
   "metadata": {},
   "outputs": [],
   "source": [
    "camera = Camera.instance(width=320, height=240)"
   ]
  },
  {
   "cell_type": "markdown",
   "metadata": {},
   "source": [
    "## Define preprocess and postprocess"
   ]
  },
  {
   "cell_type": "code",
   "execution_count": null,
   "metadata": {},
   "outputs": [],
   "source": [
    "def preprocess(image):\n",
    "    observe = PIL.Image.fromarray(image)\n",
    "    observe = observe.resize((160,120))\n",
    "    croped = observe.crop((0, 40, 160, 120))\n",
    "    tensor = transforms.ToTensor()(croped)\n",
    "    return tensor\n",
    "    \n",
    "\n",
    "def rgb8_to_jpeg(bytes):\n",
    "    return bytes(cv2.imencode('.jpg', bytes)[1])"
   ]
  },
  {
   "cell_type": "markdown",
   "metadata": {},
   "source": []
  },
  {
   "cell_type": "code",
   "execution_count": null,
   "metadata": {},
   "outputs": [],
   "source": [
    "image = widgets.Image(format='jpeg', width=320, height=240)\n",
    "result = widgets.Image(format='jpeg', width=160, height=80)\n",
    "camera_link = traitlets.dlink((camera,'value'), (image,'value'), transform=bgr8_to_jpeg)\n",
    "\n",
    "display(widgets.HBox([image,result]))"
   ]
  },
  {
   "cell_type": "markdown",
   "metadata": {},
   "source": [
    "## Start main process"
   ]
  },
  {
   "cell_type": "code",
   "execution_count": null,
   "metadata": {},
   "outputs": [],
   "source": [
    "def vae_process(change):\n",
    "    image = change['new']\n",
    "    image = preprocess(image)\n",
    "    z, _ ,_ = vae.encode(image.to(device))\n",
    "    reconst = vae.decode(z)\n",
    "    reconst = reconst.detach().cpu()[0].numpy()\n",
    "    reconst = np.transpose(np.uint8(reconst*255),[1,2,0])\n",
    "    result.value = rgb8_to_jpeg(reconst) \n",
    "\n",
    "vae_process({'new': camera.value})\n",
    "camera.observe(vae_process, names='value')"
   ]
  },
  {
   "cell_type": "markdown",
   "metadata": {},
   "source": [
    "## Clean up process"
   ]
  },
  {
   "cell_type": "code",
   "execution_count": null,
   "metadata": {},
   "outputs": [],
   "source": [
    "camera.unobserve(vae_process, names='value')\n",
    "camera_link.unlink()\n"
   ]
  }
 ],
 "metadata": {
  "kernelspec": {
   "display_name": "Python 3",
   "language": "python",
   "name": "python3"
  },
  "language_info": {
   "codemirror_mode": {
    "name": "ipython",
    "version": 3
   },
   "file_extension": ".py",
   "mimetype": "text/x-python",
   "name": "python",
   "nbconvert_exporter": "python",
   "pygments_lexer": "ipython3",
   "version": "3.6.9"
  }
 },
 "nbformat": 4,
 "nbformat_minor": 4
}
