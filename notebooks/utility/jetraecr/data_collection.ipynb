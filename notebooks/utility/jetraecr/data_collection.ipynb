{
 "cells": [
  {
   "cell_type": "markdown",
   "metadata": {},
   "source": [
    "# Jetpilot - Data collection\n",
    "\n",
    "In this notebook we'll collect training data the same as [DonkeyCar](https://www.donkeycar.com/). \n",
    "The training data save to dataset directory. Need gamepad controller is connected to Laptop with USB.\n",
    "\n",
    "## Import module\n",
    "\n",
    "Import required module for this notebook. MobileController module is own module. This module implements Jetbot steering control.\n"
   ]
  },
  {
   "cell_type": "code",
   "execution_count": 1,
   "metadata": {},
   "outputs": [],
   "source": [
    "import os\n",
    "import cv2\n",
    "import traitlets\n",
    "import ipywidgets.widgets as widgets\n",
    "from IPython.display import display\n",
    "from jetcam.csi_camera import CSICamera\n",
    "from jetcam.utils import bgr8_to_jpeg"
   ]
  },
  {
   "cell_type": "code",
   "execution_count": null,
   "metadata": {},
   "outputs": [],
   "source": [
    "LOG_DIRECTORY = 'dataset'\n",
    "CAMERA_WIDTH = 320\n",
    "CAMERA_HEIGHT = 240"
   ]
  },
  {
   "cell_type": "code",
   "execution_count": 6,
   "metadata": {},
   "outputs": [],
   "source": [
    "CAMERA_WIDTH = 320\n",
    "CAMERA_HEIGHT = 240\n",
    "\n",
    "camera = CSICamera(width=CAMERA_WIDTH, height=CAMERA_HEIGHT, capture_width=CAMERA_WIDTH, \n",
    "                   capture_height=CAMERA_HEIGHT, capture_fps=60)\n",
    "\n",
    "camera.running = True\n",
    "\n",
    "image = widgets.Image(format='jpeg', width=320, height=240)\n",
    "camera_link = traitlets.dlink((camera,'value'), (image,'value'), transform=bgr8_to_jpeg)\n",
    "display(image)"
   ]
  },
  {
   "cell_type": "markdown",
   "metadata": {},
   "source": [
    "## UI Widget\n",
    "\n",
    "We can check Gamepad value and Image. "
   ]
  },
  {
   "cell_type": "code",
   "execution_count": 7,
   "metadata": {
    "collapsed": true
   },
   "outputs": [
    {
     "name": "stdout",
     "output_type": "stream",
     "text": [
      "Directories not created becasue they already exist\n"
     ]
    },
    {
     "data": {
      "text/plain": [
       "HBox(children=(VBox(children=(HBox(children=(Label(value='Number image:', layout=Layout(height='64px', width='…"
      ]
     },
     "metadata": {},
     "output_type": "display_data"
    }
   ],
   "source": [
    "from IPython.display import display\n",
    "import ipywidgets\n",
    "\n",
    "log_button = ipywidgets.ToggleButton(value=False, description='enable logging')\n",
    "display(log_button)\n"
   ]
  },
  {
   "cell_type": "markdown",
   "metadata": {},
   "source": [
    "## Set callback for collect the training data.\n",
    "\n",
    "```sace_record``` is callback for training data. The method set to camera observer. This callback saving the image that contain speed and steering in file name to DATASET_DIR. When holding ```R``` button, this method recording training data. You can check number of training data with ```Number image text box```. If We plan learning on Jetbot, Number of training data less than 700. "
   ]
  },
  {
   "cell_type": "code",
   "execution_count": 8,
   "metadata": {},
   "outputs": [],
   "source": [
    "if not os.path.exists(LOG_DIRECTORY):\n",
    "    os.mkdir(LOG_DIRECTORY)\n",
    "\n",
    "count = 0\n",
    "\n",
    "def execute(change):\n",
    "    global count, LOG_DIRECTORY\n",
    "    image = change['new']\n",
    "    if log_button.value:\n",
    "        image_path = os.path.join(LOG_DIRECTORY, '%012d.jpg' % count)\n",
    "        cv2.imwrite(image_path, image)\n",
    "        count += 1\n",
    "    else:\n",
    "        count = 0\n",
    "\n",
    "execute({'new': camera.value})\n",
    "camera.observe(execute, names='value')"
   ]
  },
  {
   "cell_type": "markdown",
   "metadata": {},
   "source": [
    "## Cleanup\n",
    "After collecting enough data. cleanup camera observer and stop all motor."
   ]
  },
  {
   "cell_type": "code",
   "execution_count": 9,
   "metadata": {},
   "outputs": [],
   "source": [
    "camera.unobserve_all()"
   ]
  },
  {
   "cell_type": "markdown",
   "metadata": {},
   "source": [
    "If you leaning Autopilot on Cloud then run next cell."
   ]
  },
  {
   "cell_type": "code",
   "execution_count": 10,
   "metadata": {},
   "outputs": [],
   "source": [
    "import datetime\n",
    "def timestr():\n",
    "    return str(datetime.datetime.now().strftime('%Y-%m-%d_%H-%M-%S'))\n",
    "\n",
    "!zip -r -q jetbot_imitiative_{DATASET_DIR}_{timestr()}.zip {DATASET_DIR}"
   ]
  }
 ],
 "metadata": {
  "kernelspec": {
   "display_name": "Python 3",
   "language": "python",
   "name": "python3"
  },
  "language_info": {
   "codemirror_mode": {
    "name": "ipython",
    "version": 3
   },
   "file_extension": ".py",
   "mimetype": "text/x-python",
   "name": "python",
   "nbconvert_exporter": "python",
   "pygments_lexer": "ipython3",
   "version": "3.6.9"
  }
 },
 "nbformat": 4,
 "nbformat_minor": 4
}
