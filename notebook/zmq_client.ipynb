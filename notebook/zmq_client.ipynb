{
 "cells": [
  {
   "cell_type": "code",
   "execution_count": 1,
   "metadata": {},
   "outputs": [],
   "source": [
    "import json\n",
    "import posix_ipc\n",
    "import ipywidgets.widgets as widgets"
   ]
  },
  {
   "cell_type": "code",
   "execution_count": 2,
   "metadata": {},
   "outputs": [
    {
     "data": {
      "text/plain": [
       "Controller()"
      ]
     },
     "metadata": {},
     "output_type": "display_data"
    }
   ],
   "source": [
    "controller = widgets.Controller(index=0)\n",
    "display(controller)"
   ]
  },
  {
   "cell_type": "code",
   "execution_count": 3,
   "metadata": {},
   "outputs": [],
   "source": [
    "STOP=5\n",
    "START=4"
   ]
  },
  {
   "cell_type": "code",
   "execution_count": 4,
   "metadata": {},
   "outputs": [],
   "source": [
    "status = False\n",
    "\n",
    "mq = posix_ipc.MessageQueue(\"/my_q01\", posix_ipc.O_CREAT )\n",
    "\n",
    "def send_stop_flag(change):\n",
    "    global mq\n",
    "    if change['new'] == 1.0:\n",
    "        obj = { \"status\": True }\n",
    "        mq.send( json.dumps( obj ) )\n",
    "        \n",
    "def send_start_flag(change):\n",
    "    global mq\n",
    "    if change['new'] == 1.0:\n",
    "        obj = { \"status\": False }\n",
    "        mq.send( json.dumps( obj ) )\n",
    "        \n",
    "send_stop_flag({'new': controller.buttons[STOP].value})\n",
    "send_start_flag({'new': controller.buttons[START].value})\n",
    "controller.buttons[STOP].observe(send_stop_flag, names='value')\n",
    "controller.buttons[START].observe(send_start_flag, names='value')"
   ]
  }
 ],
 "metadata": {
  "kernelspec": {
   "display_name": "Python 3",
   "language": "python",
   "name": "python3"
  },
  "language_info": {
   "codemirror_mode": {
    "name": "ipython",
    "version": 3
   },
   "file_extension": ".py",
   "mimetype": "text/x-python",
   "name": "python",
   "nbconvert_exporter": "python",
   "pygments_lexer": "ipython3",
   "version": "3.6.9"
  }
 },
 "nbformat": 4,
 "nbformat_minor": 4
}
