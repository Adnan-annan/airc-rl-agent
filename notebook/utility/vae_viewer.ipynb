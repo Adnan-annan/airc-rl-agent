{
 "cells": [
  {
   "cell_type": "code",
   "execution_count": null,
   "metadata": {
    "collapsed": true
   },
   "outputs": [],
   "source": [
    "from jetson import Camera\n",
    "import traitlets\n",
    "import ipywidgets.widgets as widgets\n",
    "from IPython.display import display\n",
    "from ../../vae.vae import VAE"
   ]
  },
  {
   "cell_type": "code",
   "execution_count": null,
   "metadata": {},
   "outputs": [],
   "source": [
    "IMAGE_CHANNELS = 3\n",
    "VARIANTS_SIZE = 32\n",
    "MODEL_PATH = '../../vae.torch'\n",
    "device = 'cuda'"
   ]
  },
  {
   "cell_type": "code",
   "execution_count": null,
   "metadata": {},
   "outputs": [],
   "source": [
    "vae = VAE(image_channels=IMAGE_CHANNELS, z_dim=VARIANTS_SIZE)\n",
    "vae.load_state_dict(torch.load(model_path, map_location=torch.device(device)))\n",
    "vae.to(torch.device(device)).eval()"
   ]
  },
  {
   "cell_type": "code",
   "execution_count": null,
   "metadata": {},
   "outputs": [],
   "source": [
    "camera = Camera.instance(width=320, height=240)"
   ]
  },
  {
   "cell_type": "code",
   "execution_count": null,
   "metadata": {},
   "outputs": [],
   "source": [
    "def preprocess(image):\n",
    "    pass\n",
    "\n",
    "def tensor_to_jpeg(tensor):\n",
    "    pass"
   ]
  },
  {
   "cell_type": "code",
   "execution_count": null,
   "metadata": {},
   "outputs": [],
   "source": [
    "image = widgets.Image(format='jpeg', width=320, height=240)\n",
    "result = widgets.Image(format='jpeg', width=160, height=80)\n",
    "camera_link = traitlets.dlink((camera,'value'), (image,'value'), transform=bgr8_to_jpeg)\n",
    "\n",
    "display(widgets.HBox([image,reconst]))"
   ]
  },
  {
   "cell_type": "code",
   "execution_count": null,
   "metadata": {},
   "outputs": [],
   "source": [
    "def vae_process(change):\n",
    "    image = change['new']\n",
    "    image = preprocess(image)\n",
    "    z, _ ,_ = vae.encode(image)\n",
    "    reconst = vae.decode(z)\n",
    "    result.value = tensor_to_jpeg(reconst[0]) \n",
    "\n",
    "vae_process({'new': camera.value})\n",
    "camera.observe(vae_process, names='value')"
   ]
  },
  {
   "cell_type": "code",
   "execution_count": null,
   "metadata": {},
   "outputs": [],
   "source": [
    "camera.unobserve(vae_process, names='value')\n",
    "camera_link.unlink()\n"
   ]
  }
 ],
 "metadata": {
  "kernelspec": {
   "display_name": "Python 2",
   "language": "python",
   "name": "python2"
  },
  "language_info": {
   "codemirror_mode": {
    "name": "ipython",
    "version": 2
   },
   "file_extension": ".py",
   "mimetype": "text/x-python",
   "name": "python",
   "nbconvert_exporter": "python",
   "pygments_lexer": "ipython2",
   "version": "2.7.6"
  }
 },
 "nbformat": 4,
 "nbformat_minor": 0
}
